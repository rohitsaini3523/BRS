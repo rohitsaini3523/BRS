{
 "cells": [
  {
   "cell_type": "markdown",
   "metadata": {},
   "source": [
    "### Books Recommendation System"
   ]
  },
  {
   "cell_type": "markdown",
   "metadata": {},
   "source": [
    "### Installing Libraries"
   ]
  },
  {
   "cell_type": "code",
   "execution_count": 331,
   "metadata": {},
   "outputs": [],
   "source": [
    "import pandas as pd\n",
    "\n",
    "%matplotlib inline\n",
    "import matplotlib.pyplot as plt\n",
    "import numpy as np\n",
    "from numpy import int64\n",
    "import warnings\n",
    "warnings.filterwarnings(\"ignore\")\n",
    "\n",
    "import requests\n",
    "import IPython.display as Disp\n",
    "import plotly.express as px\n",
    "\n",
    "import sklearn\n",
    "from IPython.core.display import display,HTML\n",
    "from sklearn.decomposition import TruncatedSVD"
   ]
  },
  {
   "cell_type": "markdown",
   "metadata": {},
   "source": [
    "### Data Reading "
   ]
  },
  {
   "cell_type": "code",
   "execution_count": 332,
   "metadata": {},
   "outputs": [],
   "source": [
    "# Books data reading\n",
    "book=pd.read_csv(\"C:Books.txt\") "
   ]
  },
  {
   "cell_type": "code",
   "execution_count": 333,
   "metadata": {},
   "outputs": [],
   "source": [
    "#Rating data reading \n",
    "rating=pd.read_csv(\"C:Ratings.txt\")"
   ]
  },
  {
   "cell_type": "code",
   "execution_count": 334,
   "metadata": {},
   "outputs": [
    {
     "data": {
      "text/plain": [
       "((10000, 23), (162604, 3))"
      ]
     },
     "execution_count": 334,
     "metadata": {},
     "output_type": "execute_result"
    }
   ],
   "source": [
    "book.shape,rating.shape"
   ]
  },
  {
   "cell_type": "code",
   "execution_count": 335,
   "metadata": {},
   "outputs": [],
   "source": [
    "pd.set_option('display.max_columns',100)\n",
    "# book.head(3)"
   ]
  },
  {
   "cell_type": "code",
   "execution_count": 336,
   "metadata": {},
   "outputs": [],
   "source": [
    "# rating.head(3)"
   ]
  },
  {
   "cell_type": "markdown",
   "metadata": {},
   "source": [
    "### Data Merging"
   ]
  },
  {
   "cell_type": "code",
   "execution_count": 337,
   "metadata": {},
   "outputs": [],
   "source": [
    "# Data merging done on common column i.e. book id\n",
    "df=rating.merge(book,on='book_id')"
   ]
  },
  {
   "cell_type": "code",
   "execution_count": 338,
   "metadata": {},
   "outputs": [],
   "source": [
    "# df.head(2)"
   ]
  },
  {
   "cell_type": "code",
   "execution_count": 339,
   "metadata": {},
   "outputs": [],
   "source": [
    "# df.describe()"
   ]
  },
  {
   "cell_type": "code",
   "execution_count": 340,
   "metadata": {},
   "outputs": [],
   "source": [
    "# df.info()"
   ]
  },
  {
   "cell_type": "markdown",
   "metadata": {},
   "source": [
    "### Data Cleaning "
   ]
  },
  {
   "cell_type": "code",
   "execution_count": 341,
   "metadata": {},
   "outputs": [],
   "source": [
    "# df.isna().sum()"
   ]
  },
  {
   "cell_type": "code",
   "execution_count": 342,
   "metadata": {},
   "outputs": [],
   "source": [
    "#Filling null values of original_title with Na and 0\n",
    "df['original_title']=df['original_title'].fillna('Na') \n",
    "df['original_publication_year']=df['original_publication_year'].fillna(0)"
   ]
  },
  {
   "cell_type": "code",
   "execution_count": 343,
   "metadata": {},
   "outputs": [],
   "source": [
    "#Since, all columns of data are not required. So, extracting the columns that are only necessary\n",
    "dfuse=df[['user_id','book_id','rating','books_count','original_publication_year','average_rating','ratings_count','title','original_title','authors','image_url']]"
   ]
  },
  {
   "cell_type": "code",
   "execution_count": 344,
   "metadata": {},
   "outputs": [],
   "source": [
    "# dfuse.head(3)"
   ]
  },
  {
   "cell_type": "markdown",
   "metadata": {},
   "source": [
    "### Visualisation"
   ]
  },
  {
   "cell_type": "markdown",
   "metadata": {},
   "source": [
    "### Q1 Maximum Count of Ratings are of ?"
   ]
  },
  {
   "cell_type": "code",
   "execution_count": 345,
   "metadata": {},
   "outputs": [],
   "source": [
    "# px.bar(dfuse.groupby('rating')['book_id'].count(), title='Plot of Rating with Books Count',color_discrete_sequence =['green']*3, height=500, width=700)"
   ]
  },
  {
   "cell_type": "markdown",
   "metadata": {},
   "source": [
    "As shown here, maximum rating of 4 are given 58.821K times where rating 5 are given 46.31K. Least rating given is 1 to only 3633. This shows given in data are good books since rating 3 are 4 times given than rating 2."
   ]
  },
  {
   "cell_type": "markdown",
   "metadata": {},
   "source": [
    "### Q2 Top 5 Books which are Rated in High Count ?"
   ]
  },
  {
   "cell_type": "code",
   "execution_count": 346,
   "metadata": {},
   "outputs": [],
   "source": [
    "# px.bar(dfuse.groupby('book_id')['rating'].count().sort_values(ascending=False).nlargest(5), title='Plot of Top 5 Highly Rated in Counts',color_discrete_sequence =['light blue']*3, height=500, width=700 )"
   ]
  },
  {
   "cell_type": "markdown",
   "metadata": {},
   "source": [
    "As shown maximum rating count is of book id 26 with 1010 count followed by count of 922 of book id of 2 and 4."
   ]
  },
  {
   "cell_type": "markdown",
   "metadata": {},
   "source": [
    "### Q3 Which are Top Highly Rated Books Based on Average Rating ?"
   ]
  },
  {
   "cell_type": "code",
   "execution_count": 347,
   "metadata": {},
   "outputs": [],
   "source": [
    "# px.bar(dfuse.groupby(str('title'))['average_rating'].mean().sort_values(ascending=False).nlargest(5), title='Plot of Top 3 Highly Rated Books on Basis of Average Ratings',color_discrete_sequence =['red']*3,height=500, width=700 )"
   ]
  },
  {
   "cell_type": "markdown",
   "metadata": {},
   "source": [
    "As shown above, highest rating average of 4.82 is given to book \"The Complete Calvin and Hobbies\" followed by rating of 4.77 to Harry Potter(1-5)"
   ]
  },
  {
   "cell_type": "markdown",
   "metadata": {},
   "source": [
    "### Q4 Which User Rated Maximum ?"
   ]
  },
  {
   "cell_type": "code",
   "execution_count": 348,
   "metadata": {},
   "outputs": [],
   "source": [
    "# px.bar(dfuse.groupby(str('user_id'))['rating'].count().sort_values(ascending=False).nlargest(10), title='Plot of User Id with Ratings Count',color_discrete_sequence =['orange']*3 , height=500, width=700)"
   ]
  },
  {
   "cell_type": "markdown",
   "metadata": {},
   "source": [
    "As shown above, user id of 2276 rated maximum books of 185 in count followed by value of 179 by user id 4147 then value of 172 with user id 1794"
   ]
  },
  {
   "cell_type": "markdown",
   "metadata": {},
   "source": [
    "### Q5 Which Original Title has Maximum Rating ?"
   ]
  },
  {
   "cell_type": "code",
   "execution_count": 349,
   "metadata": {},
   "outputs": [],
   "source": [
    "df_1=pd.DataFrame(dfuse.groupby('original_title')['rating'].count().sort_values(ascending=False).nlargest(6))"
   ]
  },
  {
   "cell_type": "code",
   "execution_count": 350,
   "metadata": {},
   "outputs": [],
   "source": [
    "df_1['Image']=\" \"\n",
    "def path_to_image_html(path):\n",
    "    return '<img src=\"'+ path + '\" width=\"60\" >'"
   ]
  },
  {
   "cell_type": "code",
   "execution_count": 351,
   "metadata": {},
   "outputs": [],
   "source": [
    "for i in range(1,len(df_1.index)):\n",
    "    url=dfuse[dfuse['original_title']==df_1.index[i]]['image_url'].unique()\n",
    "    df_1['Image'][i]=url[0]"
   ]
  },
  {
   "cell_type": "code",
   "execution_count": 352,
   "metadata": {},
   "outputs": [],
   "source": [
    "image_cols = ['Image']\n",
    "\n",
    "# Create the dictionariy to be passed as formatters\n",
    "format_dict = {}\n",
    "for image_col in image_cols:\n",
    "    format_dict[image_col] = path_to_image_html\n",
    "\n",
    "# display(HTML(df_1[1:].to_html(escape=False ,formatters=format_dict)))"
   ]
  },
  {
   "cell_type": "markdown",
   "metadata": {},
   "source": [
    "As given in above dataframe, \"The Da Vinci Code\" has the maximum rating count of 1010 haing book id 26 as mentioned in Q2 "
   ]
  },
  {
   "cell_type": "markdown",
   "metadata": {},
   "source": [
    "### Recommendation System "
   ]
  },
  {
   "cell_type": "code",
   "execution_count": 353,
   "metadata": {},
   "outputs": [],
   "source": [
    "# create pivot table to study the user and book relation\n",
    "df_pivot=dfuse.pivot_table(values='rating',index='user_id',columns='original_title',fill_value=0)"
   ]
  },
  {
   "cell_type": "code",
   "execution_count": 354,
   "metadata": {},
   "outputs": [],
   "source": [
    "# df_pivot.head(5)"
   ]
  },
  {
   "cell_type": "code",
   "execution_count": 355,
   "metadata": {},
   "outputs": [],
   "source": [
    "# Transposing the pivot table to easy access\n",
    "x=df_pivot.values.T  \n",
    "# x.shape "
   ]
  },
  {
   "cell_type": "markdown",
   "metadata": {},
   "source": [
    "#### Dimentionality Reduction Using SVD"
   ]
  },
  {
   "cell_type": "code",
   "execution_count": 356,
   "metadata": {},
   "outputs": [],
   "source": [
    "SVD  = TruncatedSVD(n_components=20, random_state=17)\n",
    "result_matrix = SVD.fit_transform(x)\n",
    "# result_matrix.shape"
   ]
  },
  {
   "cell_type": "markdown",
   "metadata": {},
   "source": [
    "#### Creating the Pearson's Correlation "
   ]
  },
  {
   "cell_type": "code",
   "execution_count": 357,
   "metadata": {},
   "outputs": [],
   "source": [
    "corr_mat = np.corrcoef(result_matrix)\n",
    "# corr_mat.shape"
   ]
  },
  {
   "cell_type": "markdown",
   "metadata": {},
   "source": [
    "#### Recommendation of The Entered Book"
   ]
  },
  {
   "cell_type": "code",
   "execution_count": 358,
   "metadata": {},
   "outputs": [],
   "source": [
    "book_names = df_pivot.columns\n",
    "book_list = list(book_names)\n",
    "book_index = book_list.index('Drowning Ruth') "
   ]
  },
  {
   "cell_type": "code",
   "execution_count": 359,
   "metadata": {},
   "outputs": [],
   "source": [
    "corr_book = corr_mat[book_index] \n",
    "# corr_book.shape"
   ]
  },
  {
   "cell_type": "code",
   "execution_count": 360,
   "metadata": {},
   "outputs": [
    {
     "name": "stdout",
     "output_type": "stream",
     "text": [
      "Recommendation are\n"
     ]
    }
   ],
   "source": [
    "print(\"Recommendation are\")\n",
    "# list(book_names[(corr_book<1.0) & (corr_book>0.8)][1:])"
   ]
  },
  {
   "cell_type": "markdown",
   "metadata": {},
   "source": [
    "### Function for Recommendation System Gives Top 5 Books"
   ]
  },
  {
   "cell_type": "code",
   "execution_count": 361,
   "metadata": {},
   "outputs": [],
   "source": [
    "def path_to_image_html(path):\n",
    "    return '<img src=\"'+ path + '\" width=\"60\" >'\n",
    "\n",
    "def df_recommend(recommend):\n",
    "    recommend=recommend[:5]\n",
    "    year=[]\n",
    "    image_url=[]\n",
    "    for i in recommend:\n",
    "        for j in dfuse.index:\n",
    "            if dfuse['original_title'][j]==i:\n",
    "                year.append(dfuse['original_publication_year'][j])\n",
    "                image_url.append(dfuse['image_url'][j])  \n",
    "                break\n",
    "    recommend_df=pd.DataFrame([recommend,year,image_url]).T\n",
    "    recommend_df.columns=['Recommend Books','Year of Publication','Image']\n",
    "    \n",
    "    image_cols = ['Image']\n",
    "\n",
    "\n",
    "    format_dict = {}\n",
    "    for image_col in image_cols:\n",
    "        format_dict[image_col] = path_to_image_html\n",
    "\n",
    "    display(HTML(recommend_df[0:10].to_html(escape=False ,formatters=format_dict)))"
   ]
  },
  {
   "cell_type": "code",
   "execution_count": 362,
   "metadata": {},
   "outputs": [],
   "source": [
    "def recommend_book(df_pivot, corr_mat):\n",
    "    name=input(\"Enter the Name of the Book : \")\n",
    "    book_names = df_pivot.columns\n",
    "    book_list = list(book_names)\n",
    "    try:\n",
    "        if name in book_list:\n",
    "            book_index = book_list.index(name) \n",
    "            corr_book = corr_mat[book_index] \n",
    "            print(\"Recommendation are\")\n",
    "            recommend=list(book_names[(corr_book<1.0) & (corr_book>0.8)][1:])\n",
    "            df_recommend(recommend)\n",
    "\n",
    "        else:\n",
    "            name=\" \"+name\n",
    "            book_index = book_list.index(name) \n",
    "            corr_book = corr_mat[book_index] \n",
    "            print(\"Recommendation are\")\n",
    "            recommend=list(book_names[(corr_book<1.0) & (corr_book>0.8)][1:])\n",
    "            df_recommend(recommend)\n",
    "    except:\n",
    "        print(\"Enter the Book Name Again\")\n",
    "        recommend_book(df_pivot,corr_mat)    \n",
    "    "
   ]
  },
  {
   "cell_type": "code",
   "execution_count": 363,
   "metadata": {},
   "outputs": [
    {
     "name": "stdout",
     "output_type": "stream",
     "text": [
      "Enter the Book Name Again\n",
      "Enter the Book Name Again\n",
      "Recommendation are\n"
     ]
    },
    {
     "data": {
      "text/html": [
       "<table border=\"1\" class=\"dataframe\">\n",
       "  <thead>\n",
       "    <tr style=\"text-align: right;\">\n",
       "      <th></th>\n",
       "      <th>Recommend Books</th>\n",
       "      <th>Year of Publication</th>\n",
       "      <th>Image</th>\n",
       "    </tr>\n",
       "  </thead>\n",
       "  <tbody>\n",
       "    <tr>\n",
       "      <th>0</th>\n",
       "      <td>A Kiss of Shadows (Merry Gentry, #1)</td>\n",
       "      <td>2000.0</td>\n",
       "      <td><img src=\"https://images.gr-assets.com/books/1486707201m/139417.jpg\" width=\"60\" ></td>\n",
       "    </tr>\n",
       "    <tr>\n",
       "      <th>1</th>\n",
       "      <td>Battleaxe (The Axis Trilogy #1)</td>\n",
       "      <td>1995.0</td>\n",
       "      <td><img src=\"https://images.gr-assets.com/books/1312033613m/231989.jpg\" width=\"60\" ></td>\n",
       "    </tr>\n",
       "    <tr>\n",
       "      <th>2</th>\n",
       "      <td>Bloody Bones</td>\n",
       "      <td>1996.0</td>\n",
       "      <td><img src=\"https://images.gr-assets.com/books/1304126691m/30241.jpg\" width=\"60\" ></td>\n",
       "    </tr>\n",
       "    <tr>\n",
       "      <th>3</th>\n",
       "      <td>Burnt Offerings (Anita Blake, Vampire Hunter, #7)</td>\n",
       "      <td>1998.0</td>\n",
       "      <td><img src=\"https://images.gr-assets.com/books/1289528358m/30242.jpg\" width=\"60\" ></td>\n",
       "    </tr>\n",
       "    <tr>\n",
       "      <th>4</th>\n",
       "      <td>Chainfire (Sword of Truth, #9)</td>\n",
       "      <td>2004.0</td>\n",
       "      <td><img src=\"https://s.gr-assets.com/assets/nophoto/book/111x148-bcc042a9c91a29c1d680899eff700a03.png\" width=\"60\" ></td>\n",
       "    </tr>\n",
       "  </tbody>\n",
       "</table>"
      ],
      "text/plain": [
       "<IPython.core.display.HTML object>"
      ]
     },
     "metadata": {},
     "output_type": "display_data"
    }
   ],
   "source": [
    "recommend_book(df_pivot,corr_mat)   "
   ]
  },
  {
   "cell_type": "code",
   "execution_count": null,
   "metadata": {},
   "outputs": [],
   "source": []
  }
 ],
 "metadata": {
  "kernelspec": {
   "display_name": "Python 3.10.7 64-bit",
   "language": "python",
   "name": "python3"
  },
  "language_info": {
   "codemirror_mode": {
    "name": "ipython",
    "version": 3
   },
   "file_extension": ".py",
   "mimetype": "text/x-python",
   "name": "python",
   "nbconvert_exporter": "python",
   "pygments_lexer": "ipython3",
   "version": "3.10.7"
  },
  "vscode": {
   "interpreter": {
    "hash": "26de051ba29f2982a8de78e945f0abaf191376122a1563185a90213a26c5da77"
   }
  }
 },
 "nbformat": 4,
 "nbformat_minor": 4
}
